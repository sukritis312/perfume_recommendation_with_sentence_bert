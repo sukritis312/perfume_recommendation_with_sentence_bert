{
  "nbformat": 4,
  "nbformat_minor": 0,
  "metadata": {
    "colab": {
      "private_outputs": true,
      "provenance": [],
      "authorship_tag": "ABX9TyOabR+nfMl7v4gxAoASXGKu",
      "include_colab_link": true
    },
    "kernelspec": {
      "name": "python3",
      "display_name": "Python 3"
    },
    "language_info": {
      "name": "python"
    }
  },
  "cells": [
    {
      "cell_type": "markdown",
      "metadata": {
        "id": "view-in-github",
        "colab_type": "text"
      },
      "source": [
        "<a href=\"https://colab.research.google.com/github/sukritis312/perfume_recommendation_with_sentence_bert/blob/main/perfume_recommendation_with_sentence_bert.ipynb\" target=\"_parent\"><img src=\"https://colab.research.google.com/assets/colab-badge.svg\" alt=\"Open In Colab\"/></a>"
      ]
    },
    {
      "cell_type": "code",
      "execution_count": null,
      "metadata": {
        "id": "ebinztWpQYS6"
      },
      "outputs": [],
      "source": [
        "!pip install -U sentence-transformers\n",
        "!pip install scikit-learn==0.23.1"
      ]
    },
    {
      "cell_type": "code",
      "source": [
        "!pip install skillsnetwork"
      ],
      "metadata": {
        "id": "7vmWWxHNTBQA"
      },
      "execution_count": null,
      "outputs": []
    },
    {
      "cell_type": "code",
      "source": [
        "import warnings\n",
        "warnings.filterwarnings('ignore')\n",
        "import numpy as np\n",
        "from numpy.linalg import norm\n",
        "import pandas as pd\n",
        "import matplotlib.pyplot as plt\n",
        "import seaborn as sns\n",
        "%matplotlib inline\n",
        "from sklearn.decomposition import PCA\n",
        "from sentence_transformers import SentenceTransformer\n",
        "from sentence_transformers import util\n",
        "import skillsnetwork\n",
        "sns.set_context('notebook')\n",
        "sns.set_style('white')\n",
        "\n"
      ],
      "metadata": {
        "id": "BU4scRrWRhCO"
      },
      "execution_count": null,
      "outputs": []
    },
    {
      "cell_type": "code",
      "source": [
        "#defining helper functions\n",
        "def plotter(x,y,title):\n",
        "  plt.plot(x,y)\n",
        "  plt.xlabel('X')\n",
        "  plt.ylabel('Y')\n",
        "  plt.title(title)\n",
        "  plt.show()"
      ],
      "metadata": {
        "id": "IUpP1iAuT5fL"
      },
      "execution_count": null,
      "outputs": []
    },
    {
      "cell_type": "code",
      "source": [
        "sentences = ['This framework generates embeddings for each input sentence',\n",
        "            'Sentences are passed as a list of string.',\n",
        "            'The quick brown fox jumps over the lazy dog.']"
      ],
      "metadata": {
        "id": "yaNQct0AUfjC"
      },
      "execution_count": null,
      "outputs": []
    },
    {
      "cell_type": "code",
      "source": [
        "model=SentenceTransformer('all-MiniLM-L6-v2')"
      ],
      "metadata": {
        "id": "g4Ymn36MU5q-"
      },
      "execution_count": null,
      "outputs": []
    },
    {
      "cell_type": "code",
      "source": [
        "embeddings=model.encode(sentences,convert_to_numpy=True)\n",
        "embeddings.shape"
      ],
      "metadata": {
        "id": "37XsJccxVdlQ"
      },
      "execution_count": null,
      "outputs": []
    },
    {
      "cell_type": "code",
      "source": [
        "embeddings[0]:[50]"
      ],
      "metadata": {
        "id": "8wHGwVKKV88w"
      },
      "execution_count": null,
      "outputs": []
    },
    {
      "cell_type": "code",
      "source": [
        "#SBERT for analyzing semantic textual similarity(sts)\n",
        "sentences = ['The cat sits outside',\n",
        "             'A man is playing guitar',\n",
        "             'I love pasta',\n",
        "             'The new movie is awesome',\n",
        "             'The cat plays in the garden',\n",
        "             'A woman watches TV',\n",
        "             'The new movie is so great',\n",
        "             'Do you like pizza?']\n",
        "embeddings=model.encode(sentences,convert_to_numpy=True)"
      ],
      "metadata": {
        "id": "rhC0ZNyzWEhm"
      },
      "execution_count": null,
      "outputs": []
    },
    {
      "cell_type": "code",
      "source": [
        "#function for calculating cosine similarity score\n",
        "def cosine_similarity(a,b):\n",
        "  score=np.dot(a,b/(norm(a)*norm(b)))\n",
        "  return score"
      ],
      "metadata": {
        "id": "vWzRCgN0WmaF"
      },
      "execution_count": null,
      "outputs": []
    },
    {
      "cell_type": "code",
      "source": [
        "cosine_similarity(embeddings[0],embeddings[1])"
      ],
      "metadata": {
        "id": "khkrAgNDXQW5"
      },
      "execution_count": null,
      "outputs": []
    },
    {
      "cell_type": "code",
      "source": [
        "cosine_similarity(embeddings[3],embeddings[6])"
      ],
      "metadata": {
        "id": "c8gGfEGcYFLG"
      },
      "execution_count": null,
      "outputs": []
    },
    {
      "cell_type": "code",
      "source": [
        "cosine_scores=util.cos_sim(embeddings,embeddings)\n",
        "cosine_scores.shape"
      ],
      "metadata": {
        "id": "F1hoKvOyYWx0"
      },
      "execution_count": null,
      "outputs": []
    },
    {
      "cell_type": "code",
      "source": [
        "pairs = []\n",
        "\n",
        "for i in range(len(cosine_scores)-1): # 0, 1, 2, 3, 4, 5, 6\n",
        "    for j in range(i+1, len(cosine_scores)): # 1-7, 2-7, 3-7, 4-7, 5-7, 6-7, 7\n",
        "        pairs.append({'index': [i,j], 'score': cosine_scores[i][j]})\n",
        "\n",
        "len(pairs)"
      ],
      "metadata": {
        "id": "IDrkrLkYYtSU"
      },
      "execution_count": null,
      "outputs": []
    },
    {
      "cell_type": "code",
      "source": [
        "sorted_pairs = sorted(pairs, key=lambda x: x['score'], reverse=True)\n",
        "\n",
        "for pair in sorted_pairs[0:3]:\n",
        "    i, j = pair['index']\n",
        "    print(f\"{sentences[i]} | {sentences[j]} \\n Score: {pair['score']:.2f} \\n\")"
      ],
      "metadata": {
        "id": "8io1dVs6Yyju"
      },
      "execution_count": null,
      "outputs": []
    },
    {
      "cell_type": "code",
      "source": [
        "pca=PCA(n_components=2)\n",
        "embeddings_reduced=pca.fit_transform(embeddings)"
      ],
      "metadata": {
        "id": "L8uMAy7xY79m"
      },
      "execution_count": null,
      "outputs": []
    },
    {
      "cell_type": "code",
      "source": [
        "for coord,sentence in zip(embeddings_reduced,sentences):\n",
        "  plt.scatter(coord[0],coord[1])\n",
        "  plt.annotate(sentence, (coord[0],coord[1]))"
      ],
      "metadata": {
        "id": "hSW0W_9QZXM3"
      },
      "execution_count": null,
      "outputs": []
    },
    {
      "cell_type": "code",
      "source": [
        "#download dataset\n",
        "await skillsnetwork.prepare(\"https://cf-courses-data.s3.us.cloud-object-storage.appdomain.cloud/IBM-GPXX068IEN/data/perfume_data.tgz\", overwrite=True)"
      ],
      "metadata": {
        "id": "1pUaiYppaQmg"
      },
      "execution_count": null,
      "outputs": []
    },
    {
      "cell_type": "code",
      "source": [
        "df=pd.read_csv(\"./perfume_data.csv\", encoding=\"unicode_escape\")\n",
        "df.head()"
      ],
      "metadata": {
        "id": "1Gv5CTZQah4a"
      },
      "execution_count": null,
      "outputs": []
    },
    {
      "cell_type": "code",
      "source": [
        "df.rename(columns={\"ï»¿Name\": \"Name\"}, inplace=True)\n",
        "df['Name'] = df['Brand'] + \" - \" + df['Name']\n",
        "df.drop(labels=['Description', 'Image URL', 'Brand'], axis=1, inplace=True)\n",
        "df.head()"
      ],
      "metadata": {
        "id": "mkjfW7RAaz-P"
      },
      "execution_count": null,
      "outputs": []
    },
    {
      "cell_type": "code",
      "source": [
        "#check for missing values\n",
        "df.Notes.isnull().sum()"
      ],
      "metadata": {
        "id": "IwviDkQ0a8Ac"
      },
      "execution_count": null,
      "outputs": []
    },
    {
      "cell_type": "code",
      "source": [
        "df.dropna(inplace=True)\n",
        "df.reset_index(inplace=True,drop=True)\n",
        "df.shape"
      ],
      "metadata": {
        "id": "Lia4ceejbiV0"
      },
      "execution_count": null,
      "outputs": []
    },
    {
      "cell_type": "code",
      "source": [
        "words = [\"Perfume Oil\", \"Extrait\", \"Travel\", \"Hair\", \"Body\", \"Hand\", \"Intense\", \"Intensivo\", \"Oil\"] # check for these words in perfume names\n",
        "\n",
        "index_to_drop = []\n",
        "for index, name in enumerate(df.Name):\n",
        "    if any(word.lower() in name.lower() for word in words):\n",
        "        index_to_drop.append(index)"
      ],
      "metadata": {
        "id": "UH97WWnAb7wx"
      },
      "execution_count": null,
      "outputs": []
    },
    {
      "cell_type": "code",
      "source": [
        "df.drop(index_to_drop, axis=0, inplace=True)\n",
        "df.reset_index(inplace=True, drop = True)\n",
        "df.shape"
      ],
      "metadata": {
        "id": "M4qnfGV2cA4V"
      },
      "execution_count": null,
      "outputs": []
    },
    {
      "cell_type": "code",
      "source": [
        "df.Notes = df.Notes.apply(lambda x: str(x))\n",
        "notes = df.Notes.to_list()\n",
        "len(notes)"
      ],
      "metadata": {
        "id": "nFO3PPIKcShs"
      },
      "execution_count": null,
      "outputs": []
    },
    {
      "cell_type": "code",
      "source": [
        "model = SentenceTransformer('all-MiniLM-L6-v2')\n",
        "\n",
        "note_embeddings = model.encode(notes, show_progress_bar=True, batch_size=64)"
      ],
      "metadata": {
        "id": "-RC1T79BcUOl"
      },
      "execution_count": null,
      "outputs": []
    },
    {
      "cell_type": "code",
      "source": [
        "print(note_embeddings.shape)\n",
        "\n",
        "print(note_embeddings[0][:50])"
      ],
      "metadata": {
        "id": "ZeaNq9W-cd-f"
      },
      "execution_count": null,
      "outputs": []
    },
    {
      "cell_type": "code",
      "source": [
        "#recommending perfumes using cosine similarity\n",
        "cosine_scores = util.cos_sim(note_embeddings, note_embeddings)\n",
        "cosine_scores.shape"
      ],
      "metadata": {
        "id": "IWe-O6skckRh"
      },
      "execution_count": null,
      "outputs": []
    },
    {
      "cell_type": "code",
      "source": [
        "pairs = []\n",
        "\n",
        "for i in range(len(cosine_scores)-1):\n",
        "    for j in range(i+1, len(cosine_scores)):\n",
        "        pairs.append({\"index\": [i,j], \"score\": cosine_scores[i][j]})\n",
        "\n",
        "len(pairs)"
      ],
      "metadata": {
        "id": "_1eL_tQOcv02"
      },
      "execution_count": null,
      "outputs": []
    },
    {
      "cell_type": "code",
      "source": [
        "sorted_pairs = sorted(pairs, key=lambda x: x['score'], reverse=True)\n",
        "\n",
        "for pair in sorted_pairs[0:10]:\n",
        "    i, j = pair['index']\n",
        "    print(f\"{df.iloc[i, 0]} | {df.iloc[j, 0]} \\n Score: {pair['score']:.2f} \\n\")"
      ],
      "metadata": {
        "id": "9VY--YFbc3eU"
      },
      "execution_count": null,
      "outputs": []
    },
    {
      "cell_type": "code",
      "source": [
        "my_perfumes = pd.DataFrame([['Jo Malone - English Pear & Freesia', 'Pear, Melon, Freesia, Rose, Musk, Patchouli, Rhuburb, Amber'],\n",
        "                      ['Jo Malone - Myrrh & Tonka', 'Lavender, Myrrh, Tonka Bean, Vanilla, Almond'],\n",
        "                      ['Jo Malone - Oud & Bergamot', 'orange, bergamot, lemon, cedar and oud.'],\n",
        "                      ['Guerlain - Néroli Outrenoir', 'Petitgrain, Bergamot, Tangerine, Lemon, Grapefruit, Tea, Neroli, Orange Blossom, Smoke, Earthy Notes, Myrrh, Vanilla, Benzoin, Ambrette, Oakmoss.'],\n",
        "                      ['Guerlain - Épices Volées', 'Coriander, Lemon, Artemisia, Bergamot, Clove, Cardamom, Sage, Bulgarian Rose, Sandalwood, Patchouli, Benzoin, Labdanum.'],\n",
        "                      ['Guerlain - Aqua Allegoria Nerolia Vetiver Eau de Toilette', 'Basil, Vetiver, Fig Accord, Neroli'],\n",
        "                      ['Chloe Eau de Parfum', 'Peony, Litchi, Freesia, Rose, Lily-of-the-Valley, Magnolia, Virginia Cedar, Amber.']\n",
        "                     ],\n",
        "                   columns=df.columns)\n",
        "\n",
        "my_perfumes"
      ],
      "metadata": {
        "id": "mMVE5q1cdQDm"
      },
      "execution_count": null,
      "outputs": []
    },
    {
      "cell_type": "code",
      "source": [
        "notes = list(my_perfumes.Notes)\n",
        "\n",
        "model = SentenceTransformer('all-MiniLM-L6-v2')\n",
        "my_embeddings = model.encode(notes, show_progress_bar=True)"
      ],
      "metadata": {
        "id": "swp9cxpBdTje"
      },
      "execution_count": null,
      "outputs": []
    },
    {
      "cell_type": "code",
      "source": [
        "cosine_scores = util.cos_sim(my_embeddings, note_embeddings)"
      ],
      "metadata": {
        "id": "BPeRugBOdgxg"
      },
      "execution_count": null,
      "outputs": []
    },
    {
      "cell_type": "code",
      "source": [
        "my_pairs=[]\n",
        "\n",
        "for i in range(cosine_scores.shape[0]):\n",
        "    for j in range(cosine_score.shape[1]):\n",
        "        my_pairs.append({\"index\": [i,j], \"score\": cosine_scores[i][j]})\n",
        "\n",
        "\n",
        "my_sorted_pairs = sorted(my_pairs, key=lambda x: x['score'], reverse=True)"
      ],
      "metadata": {
        "id": "SnNOEc5fdjFy"
      },
      "execution_count": null,
      "outputs": []
    }
  ]
}